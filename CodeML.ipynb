{
 "cells": [
  {
   "cell_type": "code",
   "execution_count": 3,
   "metadata": {},
   "outputs": [],
   "source": [
    "import os\n",
    "import re\n",
    "from parse import search,findall\n",
    "from pathlib import Path\n",
    "path = Path(\".\")\n",
    "\n",
    "import numpy as np\n",
    "import pandas as pd "
   ]
  },
  {
   "cell_type": "code",
   "execution_count": 4,
   "metadata": {},
   "outputs": [
    {
     "data": {
      "text/plain": [
       "'file Export Holdem Manager 2.0 12292016131233.txt have 2468'"
      ]
     },
     "metadata": {},
     "output_type": "display_data"
    },
    {
     "data": {
      "text/plain": [
       "'file Export Holdem Manager 2.0 12302016144830.txt have 42688'"
      ]
     },
     "metadata": {},
     "output_type": "display_data"
    },
    {
     "data": {
      "text/plain": [
       "'file File196.txt have 1000'"
      ]
     },
     "metadata": {},
     "output_type": "display_data"
    },
    {
     "data": {
      "text/plain": [
       "'file File198.txt have 1000'"
      ]
     },
     "metadata": {},
     "output_type": "display_data"
    },
    {
     "data": {
      "text/plain": [
       "'file File199.txt have 1000'"
      ]
     },
     "metadata": {},
     "output_type": "display_data"
    },
    {
     "data": {
      "text/plain": [
       "'file File200.txt have 1000'"
      ]
     },
     "metadata": {},
     "output_type": "display_data"
    },
    {
     "data": {
      "text/plain": [
       "'file File201.txt have 1000'"
      ]
     },
     "metadata": {},
     "output_type": "display_data"
    },
    {
     "data": {
      "text/plain": [
       "'file File203.txt have 1000'"
      ]
     },
     "metadata": {},
     "output_type": "display_data"
    },
    {
     "data": {
      "text/plain": [
       "'file File204.txt have 1000'"
      ]
     },
     "metadata": {},
     "output_type": "display_data"
    },
    {
     "data": {
      "text/plain": [
       "'Total game is 52156'"
      ]
     },
     "metadata": {},
     "output_type": "display_data"
    }
   ],
   "source": [
    "total = 0\n",
    "for file in path.glob(\"*.txt\"):\n",
    "    with open(file,'r') as f:\n",
    "        n_game = 0\n",
    "        for line in f:\n",
    "            if \"Game ended at\" in line :\n",
    "                n_game += 1\n",
    "        total += n_game\n",
    "        display (\"file \" + file.name + \" have \" + str(n_game))\n",
    "display (\"Total game is \" + str(total))"
   ]
  },
  {
   "cell_type": "code",
   "execution_count": 5,
   "metadata": {},
   "outputs": [],
   "source": [
    "file1 = Path('File196.txt')"
   ]
  },
  {
   "cell_type": "code",
   "execution_count": 6,
   "metadata": {},
   "outputs": [],
   "source": [
    "with file1.open() as f:\n",
    "    lines = f.readlines()"
   ]
  },
  {
   "cell_type": "code",
   "execution_count": 7,
   "metadata": {},
   "outputs": [],
   "source": [
    "lines = [line.strip() for line in lines]"
   ]
  },
  {
   "cell_type": "code",
   "execution_count": 8,
   "metadata": {},
   "outputs": [],
   "source": [
    "games = [] \n",
    "y = 0\n",
    "for n_line, line in enumerate(lines):\n",
    "    if \"Game ended at\" in line :\n",
    "        games.append(lines[y:n_line+1])\n",
    "        y = n_line+4\n",
    "\n"
   ]
  },
  {
   "cell_type": "code",
   "execution_count": 9,
   "metadata": {},
   "outputs": [
    {
     "data": {
      "text/plain": [
       "['Game started at: 2016/9/4 1:7:4',\n",
       " \"Game ID: 718895155 2/4 (PRR) Medusa (Short) (Hold'em)\",\n",
       " 'Seat 5 is the button',\n",
       " 'Seat 4: bjv1105 (200).',\n",
       " 'Seat 5: IlxxxlI (88).',\n",
       " 'Player IlxxxlI has small blind (2)',\n",
       " 'Player bjv1105 has big blind (4)',\n",
       " 'Player bjv1105 received a card.',\n",
       " 'Player bjv1105 received a card.',\n",
       " 'Player IlxxxlI received card: [8c]',\n",
       " 'Player IlxxxlI received card: [8s]',\n",
       " 'Player IlxxxlI allin (86)',\n",
       " 'Player bjv1105 folds',\n",
       " 'Uncalled bet (84) returned to IlxxxlI',\n",
       " 'Player IlxxxlI mucks cards',\n",
       " '------ Summary ------',\n",
       " 'Pot: 8. Rake 0',\n",
       " 'Player bjv1105 does not show cards.Bets: 4. Collects: 0. Loses: 4.',\n",
       " '*Player IlxxxlI mucks (does not show cards). Bets: 4. Collects: 8. Wins: 4.',\n",
       " 'Game ended at: 2016/9/4 1:7:11']"
      ]
     },
     "execution_count": 9,
     "metadata": {},
     "output_type": "execute_result"
    }
   ],
   "source": [
    "games[1]"
   ]
  },
  {
   "cell_type": "code",
   "execution_count": 101,
   "metadata": {},
   "outputs": [],
   "source": [
    "class Game:\n",
    "    @classmethod\n",
    "    def read_gameinfo(cls,gameinfo):\n",
    "        hasRiver = False\n",
    "        hasTurn = False\n",
    "        hasFlop = False\n",
    "        hasShowdown = False\n",
    "        tmp = []\n",
    "        loser = []\n",
    "        loser_lost = []\n",
    "        winner = []\n",
    "        profit = []\n",
    "        river_card = []\n",
    "        self_card= []\n",
    "        turn_card = []\n",
    "        flop_card = []\n",
    "        count = 0           \n",
    "        for line in gameinfo:\n",
    "            if \" is the button\" in line:\n",
    "                button = int(line.split()[1])\n",
    "            elif \"Player IlxxxlI received card:\" in line:\n",
    "                self_card = self_card + [r.fixed[0] for r in findall(\"[{}]\", line)]\n",
    "            elif \"*Player\" in line :\n",
    "                winner.append(line.split(\" \")[1])\n",
    "                profit.append(float(re.findall(\"Wins: (\\d+(\\.\\d+)?)\",line)[0][0]))\n",
    "            elif \"*** FLOP ***\" in line :\n",
    "                hasFlop = True\n",
    "                flop_card = [r.fixed[0] for r in findall(\"[{}]\", line)]\n",
    "                flop_card = flop_card[0].split(\" \")\n",
    "            elif \"*** TURN ***\" in line :\n",
    "                hasTurn = True\n",
    "                turn_card = [r.fixed[0] for r in findall(\"[{}]\", line)]\n",
    "                turn_card = turn_card[0].split(\" \") + [turn_card[1]]\n",
    "            elif \"*** RIVER ***\" in line :\n",
    "                hasRiver = True\n",
    "                river_card = [r.fixed[0] for r in findall(\"[{}]\", line)]\n",
    "                river_card = river_card[0].split(\" \") + [river_card[1]]\n",
    "                count = 1;\n",
    "                hasShowdown = True\n",
    "            elif \"Pot: \" in line:\n",
    "                tmp = re.findall(\"(\\d+(\\.\\d+)?)\",line)\n",
    "                pot = float(tmp[0][0])\n",
    "                rake = float(tmp[1][0])\n",
    "                jp_fee = float(tmp[2][0])\n",
    "            elif \"------ Summary ------\" in line :\n",
    "                count = -99\n",
    "            elif count == 1 :\n",
    "                if \" Uncalled bet \" in line :\n",
    "                    hasShowdown = False\n",
    "                    count = count -1\n",
    "            elif count==-99 :\n",
    "                if \"Loses:\" in line :\n",
    "                    loser.append(line.split(\" \")[1])\n",
    "                    loser_lost.append(float(re.findall(\"Loses: (\\d+(\\.\\d+)?)\",line)[0][0]))\n",
    "                \n",
    "                \n",
    "        lines_entire = '\\n'.join(gameinfo)\n",
    "        seat_info = [r.named for r in findall(\"Seat {num:d}: {user:w} ({stack}).\", lines_entire)]\n",
    "        \n",
    "        return cls(winner,profit,loser,loser_lost,button,seat_info,pot,rake,jp_fee,self_card,hasFlop,flop_card,hasTurn,turn_card,hasRiver,river_card,hasShowdown)\n",
    "    def __init__(self,winner,profit,loser,loser_lost,button,seat_info,pot,rake,jp_fee,self_card,hasFlop = False,flop_card =[],hasTurn = False,turn_card =[],hasRiver = False,river_card = [],hasShowdown = False):\n",
    "        self.winner = winner\n",
    "        self.profit = profit\n",
    "        self.loser = loser\n",
    "        self.loser_lost = loser_lost\n",
    "        self.button = button\n",
    "        self.seat_info = seat_info\n",
    "        self.No_player = len(seat_info) / 11\n",
    "        self.pot = pot\n",
    "        self.rake = rake\n",
    "        self.jp_fee = jp_fee\n",
    "        self.self_card = self_card\n",
    "        self.hasFlop = hasFlop\n",
    "        self.flop_card = flop_card\n",
    "        self.hasTurn = hasTurn\n",
    "        self.turn_card = turn_card\n",
    "        self.hasRiver = hasRiver\n",
    "        self.river_card = river_card\n",
    "        self.hasShowdown = hasShowdown \n",
    "        for x in range(0,len(seat_info)):\n",
    "            if seat_info[x]['user'] == winner[0] :\n",
    "                self.ratio = profit[0] / float(seat_info[x]['stack'])\n",
    "                for y in range(0,len(seat_info)):\n",
    "                    if x+3+y > len(seat_info)-1 :\n",
    "                        x= x-len(seat_info)\n",
    "                    seat_info[x+3+y]['position'] = y+1\n",
    "                    seat_info[x+3+y]['position_ratio'] = (y+1) / len(seat_info)\n",
    "\n",
    "\n",
    "                \n",
    "        \n",
    "        \n",
    "        \n",
    "        \n",
    "        "
   ]
  },
  {
   "cell_type": "code",
   "execution_count": 102,
   "metadata": {},
   "outputs": [
    {
     "data": {
      "text/plain": [
       "[{'num': 1,\n",
       "  'user': 'BIGRAISE',\n",
       "  'stack': '120',\n",
       "  'position': 8,\n",
       "  'position_ratio': 0.8888888888888888},\n",
       " {'num': 2,\n",
       "  'user': 'tcoll16',\n",
       "  'stack': '229.62',\n",
       "  'position': 9,\n",
       "  'position_ratio': 1.0},\n",
       " {'num': 3,\n",
       "  'user': 'cracypoker',\n",
       "  'stack': '261.95',\n",
       "  'position': 1,\n",
       "  'position_ratio': 0.1111111111111111},\n",
       " {'num': 4,\n",
       "  'user': 'VegetablesArentYummy',\n",
       "  'stack': '200',\n",
       "  'position': 2,\n",
       "  'position_ratio': 0.2222222222222222},\n",
       " {'num': 5,\n",
       "  'user': 'Oakee',\n",
       "  'stack': '200',\n",
       "  'position': 3,\n",
       "  'position_ratio': 0.3333333333333333},\n",
       " {'num': 6,\n",
       "  'user': 'IlxxxlI',\n",
       "  'stack': '80',\n",
       "  'position': 4,\n",
       "  'position_ratio': 0.4444444444444444},\n",
       " {'num': 7,\n",
       "  'user': 'WalterBlack',\n",
       "  'stack': '475.85',\n",
       "  'position': 5,\n",
       "  'position_ratio': 0.5555555555555556},\n",
       " {'num': 8,\n",
       "  'user': 'TheFront7',\n",
       "  'stack': '299.20',\n",
       "  'position': 6,\n",
       "  'position_ratio': 0.6666666666666666},\n",
       " {'num': 9,\n",
       "  'user': 'NoSugarJoe',\n",
       "  'stack': '16.20',\n",
       "  'position': 7,\n",
       "  'position_ratio': 0.7777777777777778}]"
      ]
     },
     "execution_count": 102,
     "metadata": {},
     "output_type": "execute_result"
    }
   ],
   "source": [
    "game = Game.read_gameinfo(games[23])\n",
    "game.seat_info"
   ]
  },
  {
   "cell_type": "code",
   "execution_count": 12,
   "metadata": {},
   "outputs": [
    {
     "data": {
      "text/plain": [
       "['Game started at: 2016/9/4 2:15:42',\n",
       " \"Game ID: 718949125 2/4 (PRR) Monopod (Short) - 2 (Hold'em)\",\n",
       " 'Seat 9 is the button',\n",
       " 'Seat 1: BIGRAISE (120).',\n",
       " 'Seat 2: tcoll16 (229.62).',\n",
       " 'Seat 3: cracypoker (261.95).',\n",
       " 'Seat 4: VegetablesArentYummy (200).',\n",
       " 'Seat 5: Oakee (200).',\n",
       " 'Seat 6: IlxxxlI (80).',\n",
       " 'Seat 7: WalterBlack (475.85).',\n",
       " 'Seat 8: TheFront7 (299.20).',\n",
       " 'Seat 9: NoSugarJoe (16.20).',\n",
       " 'Player BIGRAISE has small blind (2)',\n",
       " 'Player tcoll16 has big blind (4)',\n",
       " 'Player BIGRAISE received a card.',\n",
       " 'Player BIGRAISE received a card.',\n",
       " 'Player tcoll16 received a card.',\n",
       " 'Player tcoll16 received a card.',\n",
       " 'Player cracypoker received a card.',\n",
       " 'Player cracypoker received a card.',\n",
       " 'Player VegetablesArentYummy received a card.',\n",
       " 'Player VegetablesArentYummy received a card.',\n",
       " 'Player Oakee received a card.',\n",
       " 'Player Oakee received a card.',\n",
       " 'Player IlxxxlI received card: [5d]',\n",
       " 'Player IlxxxlI received card: [Qc]',\n",
       " 'Player WalterBlack received a card.',\n",
       " 'Player WalterBlack received a card.',\n",
       " 'Player TheFront7 received a card.',\n",
       " 'Player TheFront7 received a card.',\n",
       " 'Player NoSugarJoe received a card.',\n",
       " 'Player NoSugarJoe received a card.',\n",
       " 'Player cracypoker folds',\n",
       " 'Player VegetablesArentYummy folds',\n",
       " 'Player Oakee folds',\n",
       " 'Player IlxxxlI folds',\n",
       " 'Player WalterBlack calls (4)',\n",
       " 'Player TheFront7 folds',\n",
       " 'Player NoSugarJoe calls (4)',\n",
       " 'Player BIGRAISE folds',\n",
       " 'Player tcoll16 checks',\n",
       " '*** FLOP ***: [Qh 7d Jd]',\n",
       " 'Player tcoll16 checks',\n",
       " 'Player WalterBlack bets (4)',\n",
       " 'Player NoSugarJoe allin (12.20)',\n",
       " 'Player tcoll16 folds',\n",
       " 'Player WalterBlack calls (8.20)',\n",
       " '*** TURN ***: [Qh 7d Jd] [Qd]',\n",
       " '*** RIVER ***: [Qh 7d Jd Qd] [9s]',\n",
       " '------ Summary ------',\n",
       " 'Pot: 38.05. Rake 0.25. JP fee 0.10',\n",
       " 'Board: [Qh 7d Jd Qd 9s]',\n",
       " 'Player BIGRAISE does not show cards.Bets: 2. Collects: 0. Loses: 2.',\n",
       " 'Player tcoll16 does not show cards.Bets: 4. Collects: 0. Loses: 4.',\n",
       " 'Player cracypoker does not show cards.Bets: 0. Collects: 0. Wins: 0.',\n",
       " 'Player VegetablesArentYummy does not show cards.Bets: 0. Collects: 0. Wins: 0.',\n",
       " 'Player Oakee does not show cards.Bets: 0. Collects: 0. Wins: 0.',\n",
       " 'Player IlxxxlI does not show cards.Bets: 0. Collects: 0. Wins: 0.',\n",
       " 'Player WalterBlack shows: Two pairs. Qs and 3s [3d 3h]. Bets: 16.20. Collects: 0. Loses: 16.20.',\n",
       " 'Player TheFront7 does not show cards.Bets: 0. Collects: 0. Wins: 0.',\n",
       " '*Player NoSugarJoe shows: Two pairs. Qs and Js [10h Js]. Bets: 16.20. Collects: 38.05. Wins: 21.85.',\n",
       " 'Game ended at: 2016/9/4 2:16:41']"
      ]
     },
     "execution_count": 12,
     "metadata": {},
     "output_type": "execute_result"
    }
   ],
   "source": [
    "games[23]"
   ]
  },
  {
   "cell_type": "code",
   "execution_count": 36,
   "metadata": {},
   "outputs": [
    {
     "data": {
      "text/plain": [
       "0.02252252252252252"
      ]
     },
     "execution_count": 36,
     "metadata": {},
     "output_type": "execute_result"
    }
   ],
   "source": [
    "5/222"
   ]
  },
  {
   "cell_type": "code",
   "execution_count": null,
   "metadata": {},
   "outputs": [],
   "source": []
  },
  {
   "cell_type": "code",
   "execution_count": null,
   "metadata": {},
   "outputs": [],
   "source": []
  }
 ],
 "metadata": {
  "kernelspec": {
   "display_name": "Python 3",
   "language": "python",
   "name": "python3"
  },
  "language_info": {
   "codemirror_mode": {
    "name": "ipython",
    "version": 3
   },
   "file_extension": ".py",
   "mimetype": "text/x-python",
   "name": "python",
   "nbconvert_exporter": "python",
   "pygments_lexer": "ipython3",
   "version": "3.7.2"
  }
 },
 "nbformat": 4,
 "nbformat_minor": 2
}
